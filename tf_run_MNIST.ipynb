{
 "cells": [
  {
   "cell_type": "markdown",
   "metadata": {},
   "source": [
    "# Download data"
   ]
  },
  {
   "cell_type": "code",
   "execution_count": 1,
   "metadata": {},
   "outputs": [
    {
     "name": "stdout",
     "output_type": "stream",
     "text": [
      "Found and verified train-images-idx3-ubyte.gz\n",
      "Found and verified train-labels-idx1-ubyte.gz\n",
      "Found and verified t10k-images-idx3-ubyte.gz\n",
      "Found and verified t10k-labels-idx1-ubyte.gz\n",
      "\n",
      "Reading files train-images-idx3-ubyte.gz and train-labels-idx1-ubyte.gz\n",
      "60000 28 28\n",
      "(Images) Returned a tensor of shape  (60000, 784)\n",
      "(Labels) Returned a tensor of shape: 60000\n",
      "Sample labels:  [5 0 4 1 9 2 1 3 1 4]\n",
      "\n",
      "Reading files t10k-images-idx3-ubyte.gz and t10k-labels-idx1-ubyte.gz\n",
      "10000 28 28\n",
      "(Images) Returned a tensor of shape  (10000, 784)\n",
      "(Labels) Returned a tensor of shape: 10000\n",
      "Sample labels:  [7 2 1 0 4 1 4 9 5 9]\n"
     ]
    },
    {
     "name": "stderr",
     "output_type": "stream",
     "text": [
      "/root/anaconda3/lib/python3.6/site-packages/h5py/__init__.py:36: FutureWarning: Conversion of the second argument of issubdtype from `float` to `np.floating` is deprecated. In future, it will be treated as `np.float64 == np.dtype(float).type`.\n",
      "  from ._conv import register_converters as _register_converters\n"
     ]
    }
   ],
   "source": [
    "from file_download import *\n",
    "import tensorflow as tf\n",
    "\n",
    "#train_inputs, train_labels\n",
    "#test_inputs, test_labels are now loaded. \n",
    "\n",
    "\n"
   ]
  },
  {
   "cell_type": "markdown",
   "metadata": {},
   "source": [
    "# Defining hyperparameters and constants"
   ]
  },
  {
   "cell_type": "code",
   "execution_count": 19,
   "metadata": {},
   "outputs": [
    {
     "name": "stdout",
     "output_type": "stream",
     "text": [
      "input_size:::: 784\n"
     ]
    }
   ],
   "source": [
    "WEIGHTS_STRING = 'weights'\n",
    "BIAS_STRING = 'bias'\n",
    "\n",
    "batch_size = 100\n",
    "\n",
    "img_width, img_height = 28,28\n",
    "input_size = img_height * img_width\n",
    "print('input_size::::',input_size)\n",
    "\n",
    "num_labels = 10\n",
    "\n",
    "# resets the default graph Otherwise raises an error about already initialized variables\n",
    "tf.reset_default_graph()"
   ]
  },
  {
   "cell_type": "code",
   "execution_count": 20,
   "metadata": {},
   "outputs": [],
   "source": [
    "# Defining inputs and outputs\n",
    "# Defining in placeholders as these items will come on the fly while running the session.\n",
    "tf_inputs  = tf.placeholder(shape=[batch_size,input_size],dtype=tf.float32,name='inputs')\n",
    "tf_labels = tf.placeholder(shape=[batch_size,num_labels],dtype=tf.float32,name='labels')\n"
   ]
  },
  {
   "cell_type": "markdown",
   "metadata": {},
   "source": [
    "# Building layers with scoping"
   ]
  },
  {
   "cell_type": "code",
   "execution_count": 21,
   "metadata": {},
   "outputs": [],
   "source": [
    "#By means of scoping, we name variables (weights and biases) for each layer as,layer1/weights , layer1/bias , layer2/weights , layer2/bias , output/weights ,and output/bias.\n",
    "\n",
    "\n",
    "\n",
    "def define_net_parameters():\n",
    "    '''\n",
    "    1) A fully-connected layer with ReLU activation ( layer1 )\n",
    "    2) A fully-connected layer with ReLU activation ( layer2 )\n",
    "    3) A fully-connected softmax layer ( output )\n",
    "    '''\n",
    "\n",
    "    with tf.variable_scope('layer_1'):\n",
    "        tf.get_variable(name=WEIGHTS_STRING,shape=[input_size,500],initializer=tf.random_normal_initializer(0,0.02))\n",
    "        \n",
    "        tf.get_variable(name=BIAS_STRING,shape=[500],initializer=tf.random_normal_initializer(0,0.1))\n",
    "    \n",
    "    with tf.variable_scope('layer_2'):\n",
    "        tf.get_variable(name=WEIGHTS_STRING,shape=[500,250],initializer=tf.random_normal_initializer(0,0.2))\n",
    "        \n",
    "        tf.get_variable(name=BIAS_STRING,shape=[250],initializer=tf.random_normal_initializer(0,0.1))\n",
    "        \n",
    "    with tf.variable_scope('output'):\n",
    "        \n",
    "        tf.get_variable(name=WEIGHTS_STRING,shape=[250,10],initializer=tf.random_normal_initializer(0,0.2))\n",
    "        \n",
    "        tf.get_variable(name=BIAS_STRING,shape=[10],initializer=tf.random_normal_initializer(0,0.1))\n",
    "        \n",
    "        \n",
    "        \n",
    "        \n",
    "    "
   ]
  },
  {
   "cell_type": "markdown",
   "metadata": {},
   "source": [
    "# Inference"
   ]
  },
  {
   "cell_type": "code",
   "execution_count": 22,
   "metadata": {},
   "outputs": [],
   "source": [
    "# Calling all the parameters\n",
    "define_net_parameters()\n",
    "\n",
    "\n",
    "\n",
    "def inference(x):\n",
    "    \n",
    "    with tf.variable_scope('layer_1',reuse = True):\n",
    "        w,b = tf.get_variable(WEIGHTS_STRING),tf.get_variable(BIAS_STRING)\n",
    "        tf_h1 = tf.nn.relu(tf.matmul(x,w)+b,name='hidden_1')\n",
    "    \n",
    "    \n",
    "    with tf.variable_scope('layer_2',reuse = True):\n",
    "        w,b = tf.get_variable(WEIGHTS_STRING),tf.get_variable(BIAS_STRING)\n",
    "        tf_h2 = tf.nn.relu(tf.matmul(tf_h1,w)+b,name='hidden_2')\n",
    "    \n",
    "    \n",
    "    \n",
    "    with tf.variable_scope('output',reuse = True):\n",
    "        w,b = tf.get_variable(WEIGHTS_STRING),tf.get_variable(BIAS_STRING)\n",
    "        tf_h3 = tf.nn.bias_add(tf.matmul(tf_h2,w),b,name='hidden_3')\n",
    "        \n",
    "        \n",
    "    return tf_h3\n",
    "    "
   ]
  },
  {
   "cell_type": "markdown",
   "metadata": {},
   "source": [
    "# Defining loss and optimizer"
   ]
  },
  {
   "cell_type": "code",
   "execution_count": 23,
   "metadata": {},
   "outputs": [],
   "source": [
    "\n",
    "tf_loss = tf.reduce_mean(tf.nn.softmax_cross_entropy_with_logits_v2(logits=inference(tf_inputs),labels=tf_labels))\n",
    "\n"
   ]
  },
  {
   "cell_type": "code",
   "execution_count": 24,
   "metadata": {},
   "outputs": [],
   "source": [
    "tf_loss_minimize = tf.train.MomentumOptimizer(learning_rate=0.01,momentum=0.9,use_nesterov=True).minimize(tf_loss)"
   ]
  },
  {
   "cell_type": "markdown",
   "metadata": {},
   "source": [
    "# Predictions"
   ]
  },
  {
   "cell_type": "code",
   "execution_count": 25,
   "metadata": {},
   "outputs": [],
   "source": [
    "# defining predictions\n",
    "tf_predictions = tf.nn.softmax(inference(tf_inputs))"
   ]
  },
  {
   "cell_type": "markdown",
   "metadata": {},
   "source": [
    "# Running Neural Net"
   ]
  },
  {
   "cell_type": "code",
   "execution_count": 26,
   "metadata": {},
   "outputs": [
    {
     "name": "stderr",
     "output_type": "stream",
     "text": [
      "/root/anaconda3/lib/python3.6/site-packages/tensorflow/python/client/session.py:1645: UserWarning: An interactive session is already active. This can cause out-of-memory errors in some cases. You must explicitly call `InteractiveSession.close()` to release resources held by the other session(s).\n",
      "  warnings.warn('An interactive session is already active. This can '\n"
     ]
    },
    {
     "name": "stdout",
     "output_type": "stream",
     "text": [
      "Average train loss for the 1 epoch: 0.307\n",
      "\n",
      "\tAverage test accuracy for the 1 epoch:94.750\n",
      "\n",
      "Average train loss for the 2 epoch: 0.088\n",
      "\n",
      "\tAverage test accuracy for the 2 epoch:96.630\n",
      "\n",
      "Average train loss for the 3 epoch: 0.052\n",
      "\n",
      "\tAverage test accuracy for the 3 epoch:96.890\n",
      "\n",
      "Average train loss for the 4 epoch: 0.032\n",
      "\n",
      "\tAverage test accuracy for the 4 epoch:97.430\n",
      "\n",
      "Average train loss for the 5 epoch: 0.020\n",
      "\n",
      "\tAverage test accuracy for the 5 epoch:97.610\n",
      "\n",
      "Average train loss for the 6 epoch: 0.013\n",
      "\n",
      "\tAverage test accuracy for the 6 epoch:97.760\n",
      "\n",
      "Average train loss for the 7 epoch: 0.009\n",
      "\n",
      "\tAverage test accuracy for the 7 epoch:97.880\n",
      "\n",
      "Average train loss for the 8 epoch: 0.006\n",
      "\n",
      "\tAverage test accuracy for the 8 epoch:97.940\n",
      "\n",
      "Average train loss for the 9 epoch: 0.004\n",
      "\n",
      "\tAverage test accuracy for the 9 epoch:97.980\n",
      "\n",
      "Average train loss for the 10 epoch: 0.003\n",
      "\n",
      "\tAverage test accuracy for the 10 epoch:98.020\n",
      "\n",
      "Average train loss for the 11 epoch: 0.002\n",
      "\n",
      "\tAverage test accuracy for the 11 epoch:98.050\n",
      "\n",
      "Average train loss for the 12 epoch: 0.002\n",
      "\n",
      "\tAverage test accuracy for the 12 epoch:98.060\n",
      "\n",
      "Average train loss for the 13 epoch: 0.001\n",
      "\n",
      "\tAverage test accuracy for the 13 epoch:98.100\n",
      "\n",
      "Average train loss for the 14 epoch: 0.001\n",
      "\n",
      "\tAverage test accuracy for the 14 epoch:98.140\n",
      "\n",
      "Average train loss for the 15 epoch: 0.001\n",
      "\n",
      "\tAverage test accuracy for the 15 epoch:98.160\n",
      "\n",
      "Average train loss for the 16 epoch: 0.001\n",
      "\n",
      "\tAverage test accuracy for the 16 epoch:98.170\n",
      "\n",
      "Average train loss for the 17 epoch: 0.001\n",
      "\n",
      "\tAverage test accuracy for the 17 epoch:98.160\n",
      "\n",
      "Average train loss for the 18 epoch: 0.001\n",
      "\n",
      "\tAverage test accuracy for the 18 epoch:98.160\n",
      "\n",
      "Average train loss for the 19 epoch: 0.001\n",
      "\n",
      "\tAverage test accuracy for the 19 epoch:98.160\n",
      "\n",
      "Average train loss for the 20 epoch: 0.001\n",
      "\n",
      "\tAverage test accuracy for the 20 epoch:98.170\n",
      "\n",
      "Average train loss for the 21 epoch: 0.001\n",
      "\n",
      "\tAverage test accuracy for the 21 epoch:98.160\n",
      "\n",
      "Average train loss for the 22 epoch: 0.001\n",
      "\n",
      "\tAverage test accuracy for the 22 epoch:98.150\n",
      "\n",
      "Average train loss for the 23 epoch: 0.000\n",
      "\n",
      "\tAverage test accuracy for the 23 epoch:98.150\n",
      "\n",
      "Average train loss for the 24 epoch: 0.000\n",
      "\n",
      "\tAverage test accuracy for the 24 epoch:98.150\n",
      "\n",
      "Average train loss for the 25 epoch: 0.000\n",
      "\n",
      "\tAverage test accuracy for the 25 epoch:98.150\n",
      "\n",
      "Average train loss for the 26 epoch: 0.000\n",
      "\n",
      "\tAverage test accuracy for the 26 epoch:98.140\n",
      "\n",
      "Average train loss for the 27 epoch: 0.000\n",
      "\n",
      "\tAverage test accuracy for the 27 epoch:98.140\n",
      "\n",
      "Average train loss for the 28 epoch: 0.000\n",
      "\n",
      "\tAverage test accuracy for the 28 epoch:98.160\n",
      "\n",
      "Average train loss for the 29 epoch: 0.000\n",
      "\n",
      "\tAverage test accuracy for the 29 epoch:98.160\n",
      "\n",
      "Average train loss for the 30 epoch: 0.000\n",
      "\n",
      "\tAverage test accuracy for the 30 epoch:98.160\n",
      "\n",
      "Average train loss for the 31 epoch: 0.000\n",
      "\n",
      "\tAverage test accuracy for the 31 epoch:98.160\n",
      "\n",
      "Average train loss for the 32 epoch: 0.000\n",
      "\n",
      "\tAverage test accuracy for the 32 epoch:98.160\n",
      "\n",
      "Average train loss for the 33 epoch: 0.000\n",
      "\n",
      "\tAverage test accuracy for the 33 epoch:98.160\n",
      "\n",
      "Average train loss for the 34 epoch: 0.000\n",
      "\n",
      "\tAverage test accuracy for the 34 epoch:98.160\n",
      "\n",
      "Average train loss for the 35 epoch: 0.000\n",
      "\n",
      "\tAverage test accuracy for the 35 epoch:98.160\n",
      "\n",
      "Average train loss for the 36 epoch: 0.000\n",
      "\n",
      "\tAverage test accuracy for the 36 epoch:98.160\n",
      "\n",
      "Average train loss for the 37 epoch: 0.000\n",
      "\n",
      "\tAverage test accuracy for the 37 epoch:98.160\n",
      "\n",
      "Average train loss for the 38 epoch: 0.000\n",
      "\n",
      "\tAverage test accuracy for the 38 epoch:98.160\n",
      "\n",
      "Average train loss for the 39 epoch: 0.000\n",
      "\n",
      "\tAverage test accuracy for the 39 epoch:98.160\n",
      "\n",
      "Average train loss for the 40 epoch: 0.000\n",
      "\n",
      "\tAverage test accuracy for the 40 epoch:98.160\n",
      "\n",
      "Average train loss for the 41 epoch: 0.000\n",
      "\n",
      "\tAverage test accuracy for the 41 epoch:98.170\n",
      "\n",
      "Average train loss for the 42 epoch: 0.000\n",
      "\n",
      "\tAverage test accuracy for the 42 epoch:98.170\n",
      "\n",
      "Average train loss for the 43 epoch: 0.000\n",
      "\n",
      "\tAverage test accuracy for the 43 epoch:98.160\n",
      "\n",
      "Average train loss for the 44 epoch: 0.000\n",
      "\n",
      "\tAverage test accuracy for the 44 epoch:98.170\n",
      "\n",
      "Average train loss for the 45 epoch: 0.000\n",
      "\n",
      "\tAverage test accuracy for the 45 epoch:98.170\n",
      "\n",
      "Average train loss for the 46 epoch: 0.000\n",
      "\n",
      "\tAverage test accuracy for the 46 epoch:98.160\n",
      "\n",
      "Average train loss for the 47 epoch: 0.000\n",
      "\n",
      "\tAverage test accuracy for the 47 epoch:98.160\n",
      "\n",
      "Average train loss for the 48 epoch: 0.000\n",
      "\n",
      "\tAverage test accuracy for the 48 epoch:98.160\n",
      "\n",
      "Average train loss for the 49 epoch: 0.000\n",
      "\n",
      "\tAverage test accuracy for the 49 epoch:98.160\n",
      "\n",
      "Average train loss for the 50 epoch: 0.000\n",
      "\n",
      "\tAverage test accuracy for the 50 epoch:98.160\n",
      "\n"
     ]
    }
   ],
   "source": [
    "session = tf.InteractiveSession()\n",
    "tf.global_variables_initializer().run()\n",
    "NUM_EPOCH = 50\n",
    "\n",
    "def accuracy(predictions, labels):\n",
    "    return np.sum(np.argmax(predictions,axis=1).flatten()==labels.flatten())/batch_size\n",
    "\n",
    "\n",
    "for epoch in range(NUM_EPOCH):\n",
    "    train_loss = []\n",
    "    \n",
    "    for step in range(train_inputs.shape[0]//batch_size):\n",
    "        # Creating one-hot encoded labels with labels\n",
    "        # One-hot encoding dight 3 for 10-class MNIST data set will result in\n",
    "        # [0,0,0,1,0,0,0,0,0,0]\n",
    "        labels_one_hot = np.zeros((batch_size, num_labels),dtype=np.float32)\n",
    "        labels_one_hot[np.arange(batch_size),train_labels[step*batch_size:(step+1)*batch_size]] = 1.0\n",
    "        \n",
    "        # Running the optimization process\n",
    "        loss, _ = session.run([tf_loss,tf_loss_minimize],feed_dict={tf_inputs: train_inputs[step*batch_size: (step+1)*batch_size,:],tf_labels: labels_one_hot})\n",
    "        train_loss.append(loss)\n",
    "        \n",
    "        \n",
    "    test_accuracy = []\n",
    "    # Testing Phase\n",
    "    for step in range(test_inputs.shape[0]//batch_size):\n",
    "        test_predictions = session.run(tf_predictions,feed_dict={tf_inputs: test_inputs[step*batch_size: (step+1)*batch_size,:]})\n",
    "    \n",
    "        batch_test_accuracy = accuracy(test_predictions,test_labels[step*batch_size: (step+1)*batch_size])\n",
    "        test_accuracy.append(batch_test_accuracy)\n",
    "    print('Average train loss for the %d epoch: %.3f\\n'%(epoch+1,np.mean(train_loss)))\n",
    "    print('\\tAverage test accuracy for the %d epoch:%0.3f\\n'%(epoch+1,np.mean(test_accuracy)*100.0))\n",
    "    \n",
    "session.close()\n",
    "        \n",
    "        \n",
    "        \n",
    "        \n",
    "        \n",
    "        \n",
    "    "
   ]
  },
  {
   "cell_type": "code",
   "execution_count": null,
   "metadata": {},
   "outputs": [],
   "source": []
  },
  {
   "cell_type": "code",
   "execution_count": null,
   "metadata": {},
   "outputs": [],
   "source": [
    "\n"
   ]
  },
  {
   "cell_type": "code",
   "execution_count": null,
   "metadata": {},
   "outputs": [],
   "source": []
  },
  {
   "cell_type": "code",
   "execution_count": null,
   "metadata": {},
   "outputs": [],
   "source": []
  },
  {
   "cell_type": "code",
   "execution_count": null,
   "metadata": {},
   "outputs": [],
   "source": []
  },
  {
   "cell_type": "code",
   "execution_count": null,
   "metadata": {},
   "outputs": [],
   "source": []
  },
  {
   "cell_type": "code",
   "execution_count": null,
   "metadata": {},
   "outputs": [],
   "source": []
  },
  {
   "cell_type": "code",
   "execution_count": null,
   "metadata": {},
   "outputs": [],
   "source": []
  },
  {
   "cell_type": "code",
   "execution_count": null,
   "metadata": {},
   "outputs": [],
   "source": []
  }
 ],
 "metadata": {
  "kernelspec": {
   "display_name": "Python 3",
   "language": "python",
   "name": "python3"
  },
  "language_info": {
   "codemirror_mode": {
    "name": "ipython",
    "version": 3
   },
   "file_extension": ".py",
   "mimetype": "text/x-python",
   "name": "python",
   "nbconvert_exporter": "python",
   "pygments_lexer": "ipython3",
   "version": "3.6.5"
  }
 },
 "nbformat": 4,
 "nbformat_minor": 2
}
